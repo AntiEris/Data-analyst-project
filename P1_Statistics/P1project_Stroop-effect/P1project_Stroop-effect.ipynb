{
 "cells": [
  {
   "cell_type": "markdown",
   "metadata": {},
   "source": [
    "### 背景信息\n",
    "\n",
    "在一个 Stroop （斯特鲁普）任务中，参与者得到了一列文字，每个文字都用一种油墨颜色展示。参与者的任务是将文字的打印颜色大声说出来。这项任务有两个条件：一致文字条件，和不一致文字条件。在一致文字条件中，显示的文字是与它们的打印颜色匹配的颜色词，如“红色”、“蓝色”。在不一致文字条件中，显示的文字是与它们的打印颜色不匹配的颜色词，如“紫色”、“橙色”。在每个情况中，我们将计量说出同等大小的列表中的墨色名称的时间。每位参与者必须全部完成并记录每种条件下使用的时间。"
   ]
  },
  {
   "cell_type": "markdown",
   "metadata": {},
   "source": [
    "### 调查问题\n",
    "\n",
    "作为一般说明，请确保记录你在创建项目时使用或参考的任何资源。作为项目提交的一部分，你将需要报告信息来源。\n"
   ]
  },
  {
   "cell_type": "markdown",
   "metadata": {},
   "source": [
    "#### 1.我们的自变量是什么？因变量是什么？"
   ]
  },
  {
   "cell_type": "markdown",
   "metadata": {},
   "source": [
    "自变量是 实际颜色和文字表述的颜色是否匹配。\n",
    "因变量是 说出所有单词颜色所花费的时间（second）"
   ]
  },
  {
   "cell_type": "markdown",
   "metadata": {},
   "source": [
    "#### 2.此任务的适当假设集是什么？你想执行什么类型的统计测试？为你的选择提供正当理由。"
   ]
  },
  {
   "cell_type": "markdown",
   "metadata": {},
   "source": [
    "Nul hypothesis: 说出匹配组颜色所花费的时间(µ<sub>1</sub>)与不匹配组 (µ<sub>2</sub>)所花费的时间差别不显著。\n",
    "$$ H_{0}: µ_{2} - µ_{1} = 0 $$\n",
    "The alternative hypothesis：说出匹配组颜色所花费的时间(µ<sub>1</sub>)与不匹配组 (µ<sub>2</sub>)所花费的时间差别显著。\n",
    "$$ H_{1}: µ_{2} - µ_{1} \\neq 0 $$\n",
    "\n",
    "如果确认了两个数据集是正态分布之后，我打算执行paired t-test。因为课程提供的样本数据是成对的，每个参与者分别进行了congruent与incongruent的测试，因此我们能够计算出每个样本的时间差。"
   ]
  },
  {
   "cell_type": "markdown",
   "metadata": {},
   "source": [
    "现在轮到你自行尝试 Stroop 任务了。前往此链接，其中包含一个基于 Java 的小程序，专门用于执行 Stroop 任务。记录你收到的任务时间（你无需将时间提交到网站）。现在下载此数据集，其中包含一些任务参与者的结果。数据集的每行包含一名参与者的表现，第一个数字代表他们的一致任务结果，第二个数字代表不一致任务结果。"
   ]
  },
  {
   "cell_type": "markdown",
   "metadata": {},
   "source": [
    "#### 3.报告关于此数据集的一些描述性统计。包含至少一个集中趋势测量和至少一个变异测量。"
   ]
  },
  {
   "cell_type": "code",
   "execution_count": 46,
   "metadata": {
    "collapsed": false
   },
   "outputs": [
    {
     "data": {
      "text/html": [
       "<div>\n",
       "<table border=\"1\" class=\"dataframe\">\n",
       "  <thead>\n",
       "    <tr style=\"text-align: right;\">\n",
       "      <th></th>\n",
       "      <th>Congruent</th>\n",
       "      <th>Incongruent</th>\n",
       "      <th>diff</th>\n",
       "    </tr>\n",
       "  </thead>\n",
       "  <tbody>\n",
       "    <tr>\n",
       "      <th>0</th>\n",
       "      <td>12.079</td>\n",
       "      <td>19.278</td>\n",
       "      <td>7.199</td>\n",
       "    </tr>\n",
       "    <tr>\n",
       "      <th>1</th>\n",
       "      <td>16.791</td>\n",
       "      <td>18.741</td>\n",
       "      <td>1.950</td>\n",
       "    </tr>\n",
       "    <tr>\n",
       "      <th>2</th>\n",
       "      <td>9.564</td>\n",
       "      <td>21.214</td>\n",
       "      <td>11.650</td>\n",
       "    </tr>\n",
       "    <tr>\n",
       "      <th>3</th>\n",
       "      <td>8.630</td>\n",
       "      <td>15.687</td>\n",
       "      <td>7.057</td>\n",
       "    </tr>\n",
       "    <tr>\n",
       "      <th>4</th>\n",
       "      <td>14.669</td>\n",
       "      <td>22.803</td>\n",
       "      <td>8.134</td>\n",
       "    </tr>\n",
       "  </tbody>\n",
       "</table>\n",
       "</div>"
      ],
      "text/plain": [
       "   Congruent  Incongruent    diff\n",
       "0     12.079       19.278   7.199\n",
       "1     16.791       18.741   1.950\n",
       "2      9.564       21.214  11.650\n",
       "3      8.630       15.687   7.057\n",
       "4     14.669       22.803   8.134"
      ]
     },
     "execution_count": 46,
     "metadata": {},
     "output_type": "execute_result"
    }
   ],
   "source": [
    "import numpy as np\n",
    "import pandas as pd\n",
    "import matplotlib.pyplot as plot\n",
    "from scipy.stats import probplot, ttest_1samp #导入数据分析库\n",
    "\n",
    "data = pd.read_csv('stroopdata.csv')\n",
    "data['diff'] = data['Incongruent'] - data['Congruent'] #两个样本的时间差\n",
    "cong = data['Congruent']\n",
    "incong = data['Incongruent']\n",
    "diff = data['diff']\n",
    "data.head()"
   ]
  },
  {
   "cell_type": "code",
   "execution_count": 47,
   "metadata": {
    "collapsed": false
   },
   "outputs": [
    {
     "data": {
      "text/html": [
       "<div>\n",
       "<table border=\"1\" class=\"dataframe\">\n",
       "  <thead>\n",
       "    <tr style=\"text-align: right;\">\n",
       "      <th></th>\n",
       "      <th>Congruent</th>\n",
       "      <th>Incongruent</th>\n",
       "      <th>diff</th>\n",
       "    </tr>\n",
       "  </thead>\n",
       "  <tbody>\n",
       "    <tr>\n",
       "      <th>count</th>\n",
       "      <td>24.000000</td>\n",
       "      <td>24.000000</td>\n",
       "      <td>24.000000</td>\n",
       "    </tr>\n",
       "    <tr>\n",
       "      <th>mean</th>\n",
       "      <td>14.051125</td>\n",
       "      <td>22.015917</td>\n",
       "      <td>7.964792</td>\n",
       "    </tr>\n",
       "    <tr>\n",
       "      <th>std</th>\n",
       "      <td>3.559358</td>\n",
       "      <td>4.797057</td>\n",
       "      <td>4.864827</td>\n",
       "    </tr>\n",
       "    <tr>\n",
       "      <th>min</th>\n",
       "      <td>8.630000</td>\n",
       "      <td>15.687000</td>\n",
       "      <td>1.950000</td>\n",
       "    </tr>\n",
       "    <tr>\n",
       "      <th>25%</th>\n",
       "      <td>11.895250</td>\n",
       "      <td>18.716750</td>\n",
       "      <td>3.645500</td>\n",
       "    </tr>\n",
       "    <tr>\n",
       "      <th>50%</th>\n",
       "      <td>14.356500</td>\n",
       "      <td>21.017500</td>\n",
       "      <td>7.666500</td>\n",
       "    </tr>\n",
       "    <tr>\n",
       "      <th>75%</th>\n",
       "      <td>16.200750</td>\n",
       "      <td>24.051500</td>\n",
       "      <td>10.258500</td>\n",
       "    </tr>\n",
       "    <tr>\n",
       "      <th>max</th>\n",
       "      <td>22.328000</td>\n",
       "      <td>35.255000</td>\n",
       "      <td>21.919000</td>\n",
       "    </tr>\n",
       "  </tbody>\n",
       "</table>\n",
       "</div>"
      ],
      "text/plain": [
       "       Congruent  Incongruent       diff\n",
       "count  24.000000    24.000000  24.000000\n",
       "mean   14.051125    22.015917   7.964792\n",
       "std     3.559358     4.797057   4.864827\n",
       "min     8.630000    15.687000   1.950000\n",
       "25%    11.895250    18.716750   3.645500\n",
       "50%    14.356500    21.017500   7.666500\n",
       "75%    16.200750    24.051500  10.258500\n",
       "max    22.328000    35.255000  21.919000"
      ]
     },
     "execution_count": 47,
     "metadata": {},
     "output_type": "execute_result"
    }
   ],
   "source": [
    "data.describe() #描述性统计量"
   ]
  },
  {
   "cell_type": "markdown",
   "metadata": {},
   "source": [
    "两个样本集的均值与中位数非常接近，很可能接近正态分布。两个样本集的最大最小值基本也在均值的两个标准差内。"
   ]
  },
  {
   "cell_type": "markdown",
   "metadata": {},
   "source": [
    "#### 4.提供显示样本数据分布的一个或两个可视化。用一两句话说明你从图中观察到的结果。"
   ]
  },
  {
   "cell_type": "code",
   "execution_count": 48,
   "metadata": {
    "collapsed": false
   },
   "outputs": [
    {
     "data": {
      "image/png": "[encoded data removed]",
      "text/plain": [
       "<matplotlib.figure.Figure at 0xd347198>"
      ]
     },
     "metadata": {},
     "output_type": "display_data"
    },
    {
     "data": {
      "image/png": "[encoded data removed]",
      "text/plain": [
       "<matplotlib.figure.Figure at 0xcf877f0>"
      ]
     },
     "metadata": {},
     "output_type": "display_data"
    },
    {
     "data": {
      "image/png": "[encoded data removed]",
      "text/plain": [
       "<matplotlib.figure.Figure at 0xd23ba20>"
      ]
     },
     "metadata": {},
     "output_type": "display_data"
    }
   ],
   "source": [
    "#绘制柱状图\n",
    "plot.figure()\n",
    "cong.hist(bins=10, range=(5,25), label='Incongruent', stacked=False)\n",
    "plot.ylim((0,8))\n",
    "plot.xlabel('time(s)')\n",
    "plot.ylabel('frenquency')\n",
    "plot.title('Total time to finish the task Incongruent')\n",
    "plot.show()\n",
    "plot.close()\n",
    "\n",
    "incong.hist(bins=15, range=(10,40), label='Congruent', stacked=False)\n",
    "plot.ylim((0,8))\n",
    "plot.xlabel('time(s)')\n",
    "plot.ylabel('frenquency')\n",
    "plot.title('Total time to finish the task Congruent')\n",
    "plot.show()\n",
    "plot.close()\n",
    "\n",
    "diff.hist(bins=5, range=(0,25), label='Difference', stacked=False)\n",
    "plot.ylim((0,12))\n",
    "plot.xlabel('time(s)')\n",
    "plot.ylabel('frenquency')\n",
    "plot.title('Histogram of differences between two groups')\n",
    "plot.show()\n",
    "plot.close()"
   ]
  },
  {
   "cell_type": "code",
   "execution_count": 49,
   "metadata": {
    "collapsed": false
   },
   "outputs": [
    {
     "data": {
      "image/png": "[encoded data removed]",
      "text/plain": [
       "<matplotlib.figure.Figure at 0xddcb9b0>"
      ]
     },
     "metadata": {},
     "output_type": "display_data"
    },
    {
     "data": {
      "image/png": "[encoded data removed]",
      "text/plain": [
       "<matplotlib.figure.Figure at 0xdccbac8>"
      ]
     },
     "metadata": {},
     "output_type": "display_data"
    },
    {
     "data": {
      "image/png": "[encoded data removed]",
      "text/plain": [
       "<matplotlib.figure.Figure at 0xdc2ec18>"
      ]
     },
     "metadata": {},
     "output_type": "display_data"
    }
   ],
   "source": [
    "#绘制qq图\n",
    "plot.figure()\n",
    "array = probplot(cong, plot=plot)\n",
    "plot.title('QQ Plot for congruent', fontsize=14)\n",
    "plot.show()\n",
    "plot.close()\n",
    "\n",
    "array = probplot(incong, plot=plot)\n",
    "plot.title('QQ Plot for incongruent', fontsize=14)\n",
    "plot.show()\n",
    "plot.close()\n",
    "\n",
    "array = probplot(diff, plot=plot)\n",
    "plot.title('QQ Plot for differences', fontsize=14)\n",
    "plot.show()\n",
    "plot.close()"
   ]
  },
  {
   "cell_type": "markdown",
   "metadata": {},
   "source": [
    "由柱状图形状和QQ图的分析，可以认为两个样本数据集及其差组成的数据集都符合正态分布。"
   ]
  },
  {
   "cell_type": "markdown",
   "metadata": {},
   "source": [
    "#### 5.现在，执行统计测试并报告你的结果。你的置信水平和关键统计值是多少？你是否成功拒绝零假设？对试验任务得出一个结论。结果是否与期望一致？"
   ]
  },
  {
   "cell_type": "code",
   "execution_count": 51,
   "metadata": {
    "collapsed": false,
    "scrolled": true
   },
   "outputs": [
    {
     "name": "stdout",
     "output_type": "stream",
     "text": [
      "degrees of freedom is 23\n",
      "tt statistic: 8.02070694411\n",
      "p value: 4.10300058571e-08\n"
     ]
    }
   ],
   "source": [
    "# t检验\n",
    "dof = diff.count()-1 #自由度\n",
    "tstat, pvalue = ttest_1samp(diff, popmean=0)\n",
    "print('degrees of freedom is '+str(dof))\n",
    "print('tt statistic: '+str(tstat))\n",
    "print('p value: '+str(pvalue))"
   ]
  },
  {
   "cell_type": "markdown",
   "metadata": {},
   "source": [
    "置信水平是99.9%，关键统计值是3.768。因此拒绝H<sub>0。\n",
    "\n",
    "结论：匹配组颜色所花费的时间(µ<sub>1</sub>)与不匹配组 (µ<sub>2</sub>)所花费的时间的差别显著。不匹配组所花费的时间长于匹配组。\n",
    "检验结果与我的期望一致。"
   ]
  },
  {
   "cell_type": "markdown",
   "metadata": {},
   "source": [
    "#### 6.可选：你觉得导致所观察到的效应的原因是什么？你是否能想到会取得类似效应的替代或类似任务？进行一些调查研究将有助于你思考这两个问题！"
   ]
  },
  {
   "cell_type": "markdown",
   "metadata": {
    "collapsed": true
   },
   "source": [
    "原因可能在于人类大脑对于两种信息（语义，颜色）处理的反应速度/熟练程度是不一样的。因此在两种信息不一致时，需要更多处理时间？\n",
    "可以使用其他不同信息组进行试验，比如（语义，体积），判断文字（大 中 小）是否正确对应三种体积；或是（数字，数量），判断数字是否对应正确的数量。"
   ]
  }
 ],
 "metadata": {
  "kernelspec": {
   "display_name": "Python 2",
   "language": "python",
   "name": "python2"
  },
  "language_info": {
   "codemirror_mode": {
    "name": "ipython",
    "version": 2
   },
   "file_extension": ".py",
   "mimetype": "text/x-python",
   "name": "python",
   "nbconvert_exporter": "python",
   "pygments_lexer": "ipython2",
   "version": "2.7.13"
  }
 },
 "nbformat": 4,
 "nbformat_minor": 0
}
