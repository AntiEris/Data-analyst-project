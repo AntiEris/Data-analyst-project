{
 "cells": [
  {
   "cell_type": "markdown",
   "metadata": {
    "deletable": true,
    "editable": true
   },
   "source": [
    "# P2 Project: Titanic"
   ]
  },
  {
   "cell_type": "markdown",
   "metadata": {
    "deletable": true,
    "editable": true
   },
   "source": [
    "## 1.Background and problem definition\n"
   ]
  },
  {
   "cell_type": "markdown",
   "metadata": {
    "deletable": true,
    "editable": true
   },
   "source": [
    "### Background Information 背景信息\n",
    "The sinking of the RMS Titanic is one of the most infamous shipwrecks in history.  On April 15, 1912, during her maiden voyage, the Titanic sank after colliding with an iceberg, killing 1502 out of 2224 passengers and crew. This sensational tragedy shocked the international community and led to better safety regulations for ships.\n",
    "\n",
    "One of the reasons that the shipwreck led to such loss of life was that there were not enough lifeboats for the passengers and crew. Although there was some element of luck involved in surviving the sinking, some groups of people were more likely to survive than others, such as women, children, and the upper-class.\n",
    "\n",
    "In this challenge, we ask you to complete the analysis of what sorts of people were likely to survive. In particular, we ask you to apply the tools of machine learning to predict which passengers survived the tragedy.\n",
    "https://www.kaggle.com/c/titanic"
   ]
  },
  {
   "cell_type": "markdown",
   "metadata": {
    "deletable": true,
    "editable": true
   },
   "source": [
    "### Problem solving in this project 问题描述"
   ]
  },
  {
   "cell_type": "markdown",
   "metadata": {
    "deletable": true,
    "editable": true
   },
   "source": [
    "Which features(ex:economic,demographic...) have strong relations with the possibility of survive? How? Why?\n",
    "\n",
    "哪一些特征（人口的，经济的...）与生存率有显著关系？如何相关？可能的解释有？"
   ]
  },
  {
   "cell_type": "markdown",
   "metadata": {
    "deletable": true,
    "editable": true
   },
   "source": [
    "## 2.Acquire, wrangle and cleanse data 数据获取，清理及初步处理|"
   ]
  },
  {
   "cell_type": "markdown",
   "metadata": {
    "deletable": true,
    "editable": true
   },
   "source": [
    "### Data Dictionary 数据描述\n",
    "\n",
    "Variable\tDefinition\t        Key\n",
    "survival\tSurvival\t        0 = No, 1 = Yes\n",
    "pclass\t   Ticket class\t       1 = 1st, 2 = 2nd, 3 = 3rd\n",
    "sex\t      Sex\t\n",
    "Age\t      Age in years\t\n",
    "sibsp\t   # of siblings / spouses aboard the Titanic\t\n",
    "parch\t   # of parents / children aboard the Titanic\t\n",
    "ticket\t   Ticket number\t\n",
    "fare\t   Passenger fare\t\n",
    "cabin\t   Cabin number\t\n",
    "embarked\tPort of Embarkation\t   C = Cherbourg, Q = Queenstown, S = Southampton\n",
    "\n",
    "notes:\n",
    "pclass: A proxy for socio-economic status (SES)\n",
    "1st = Upper\n",
    "2nd = Middle\n",
    "3rd = Lower\n",
    "\n",
    "age: Age is fractional if less than 1. If the age is estimated, is it in the form of xx.5\n",
    "\n",
    "sibsp: The dataset defines family relations in this way...\n",
    "Sibling = brother, sister, stepbrother, stepsister\n",
    "Spouse = husband, wife (mistresses and fiancés were ignored)\n",
    "\n",
    "parch: The dataset defines family relations in this way...\n",
    "Parent = mother, father\n",
    "Child = daughter, son, stepdaughter, stepson\n",
    "Some children travelled only with a nanny, therefore parch=0 for them.\n",
    "\n",
    "https://www.kaggle.com/c/titanic/data"
   ]
  },
  {
   "cell_type": "code",
   "execution_count": 1,
   "metadata": {
    "collapsed": true,
    "deletable": true,
    "editable": true
   },
   "outputs": [],
   "source": [
    "#Introduce labs导入库\n",
    "import pandas as pd\n",
    "import numpy as np\n",
    "import random as rnd\n",
    "import statsmodels.api as sm\n",
    "import seaborn as sns\n",
    "import matplotlib.pyplot as plt\n",
    "%matplotlib inline"
   ]
  },
  {
   "cell_type": "code",
   "execution_count": 2,
   "metadata": {
    "collapsed": false,
    "deletable": true,
    "editable": true
   },
   "outputs": [
    {
     "data": {
      "text/html": [
       "<div>\n",
       "<table border=\"1\" class=\"dataframe\">\n",
       "  <thead>\n",
       "    <tr style=\"text-align: right;\">\n",
       "      <th></th>\n",
       "      <th>PassengerId</th>\n",
       "      <th>Survived</th>\n",
       "      <th>Pclass</th>\n",
       "      <th>Name</th>\n",
       "      <th>Sex</th>\n",
       "      <th>Age</th>\n",
       "      <th>SibSp</th>\n",
       "      <th>Parch</th>\n",
       "      <th>Ticket</th>\n",
       "      <th>Fare</th>\n",
       "      <th>Cabin</th>\n",
       "      <th>Embarked</th>\n",
       "    </tr>\n",
       "  </thead>\n",
       "  <tbody>\n",
       "    <tr>\n",
       "      <th>0</th>\n",
       "      <td>1</td>\n",
       "      <td>0</td>\n",
       "      <td>3</td>\n",
       "      <td>Braund, Mr. Owen Harris</td>\n",
       "      <td>male</td>\n",
       "      <td>22.0</td>\n",
       "      <td>1</td>\n",
       "      <td>0</td>\n",
       "      <td>A/5 21171</td>\n",
       "      <td>7.2500</td>\n",
       "      <td>NaN</td>\n",
       "      <td>S</td>\n",
       "    </tr>\n",
       "    <tr>\n",
       "      <th>1</th>\n",
       "      <td>2</td>\n",
       "      <td>1</td>\n",
       "      <td>1</td>\n",
       "      <td>Cumings, Mrs. John Bradley (Florence Briggs Th...</td>\n",
       "      <td>female</td>\n",
       "      <td>38.0</td>\n",
       "      <td>1</td>\n",
       "      <td>0</td>\n",
       "      <td>PC 17599</td>\n",
       "      <td>71.2833</td>\n",
       "      <td>C85</td>\n",
       "      <td>C</td>\n",
       "    </tr>\n",
       "    <tr>\n",
       "      <th>2</th>\n",
       "      <td>3</td>\n",
       "      <td>1</td>\n",
       "      <td>3</td>\n",
       "      <td>Heikkinen, Miss. Laina</td>\n",
       "      <td>female</td>\n",
       "      <td>26.0</td>\n",
       "      <td>0</td>\n",
       "      <td>0</td>\n",
       "      <td>STON/O2. 3101282</td>\n",
       "      <td>7.9250</td>\n",
       "      <td>NaN</td>\n",
       "      <td>S</td>\n",
       "    </tr>\n",
       "    <tr>\n",
       "      <th>3</th>\n",
       "      <td>4</td>\n",
       "      <td>1</td>\n",
       "      <td>1</td>\n",
       "      <td>Futrelle, Mrs. Jacques Heath (Lily May Peel)</td>\n",
       "      <td>female</td>\n",
       "      <td>35.0</td>\n",
       "      <td>1</td>\n",
       "      <td>0</td>\n",
       "      <td>113803</td>\n",
       "      <td>53.1000</td>\n",
       "      <td>C123</td>\n",
       "      <td>S</td>\n",
       "    </tr>\n",
       "    <tr>\n",
       "      <th>4</th>\n",
       "      <td>5</td>\n",
       "      <td>0</td>\n",
       "      <td>3</td>\n",
       "      <td>Allen, Mr. William Henry</td>\n",
       "      <td>male</td>\n",
       "      <td>35.0</td>\n",
       "      <td>0</td>\n",
       "      <td>0</td>\n",
       "      <td>373450</td>\n",
       "      <td>8.0500</td>\n",
       "      <td>NaN</td>\n",
       "      <td>S</td>\n",
       "    </tr>\n",
       "  </tbody>\n",
       "</table>\n",
       "</div>"
      ],
      "text/plain": [
       "   PassengerId  Survived  Pclass  \\\n",
       "0            1         0       3   \n",
       "1            2         1       1   \n",
       "2            3         1       3   \n",
       "3            4         1       1   \n",
       "4            5         0       3   \n",
       "\n",
       "                                                Name     Sex   Age  SibSp  \\\n",
       "0                            Braund, Mr. Owen Harris    male  22.0      1   \n",
       "1  Cumings, Mrs. John Bradley (Florence Briggs Th...  female  38.0      1   \n",
       "2                             Heikkinen, Miss. Laina  female  26.0      0   \n",
       "3       Futrelle, Mrs. Jacques Heath (Lily May Peel)  female  35.0      1   \n",
       "4                           Allen, Mr. William Henry    male  35.0      0   \n",
       "\n",
       "   Parch            Ticket     Fare Cabin Embarked  \n",
       "0      0         A/5 21171   7.2500   NaN        S  \n",
       "1      0          PC 17599  71.2833   C85        C  \n",
       "2      0  STON/O2. 3101282   7.9250   NaN        S  \n",
       "3      0            113803  53.1000  C123        S  \n",
       "4      0            373450   8.0500   NaN        S  "
      ]
     },
     "execution_count": 2,
     "metadata": {},
     "output_type": "execute_result"
    }
   ],
   "source": [
    "# Acquire Data from csv files读取文件\n",
    "tdata = pd.read_csv('titanic_data.csv')\n",
    "tdata.head() # Preview"
   ]
  },
  {
   "cell_type": "markdown",
   "metadata": {
    "deletable": true,
    "editable": true
   },
   "source": [
    "### Data type analysis 数据类型分析"
   ]
  },
  {
   "cell_type": "code",
   "execution_count": 3,
   "metadata": {
    "collapsed": false,
    "deletable": true,
    "editable": true
   },
   "outputs": [
    {
     "name": "stdout",
     "output_type": "stream",
     "text": [
      "<class 'pandas.core.frame.DataFrame'>\n",
      "RangeIndex: 891 entries, 0 to 890\n",
      "Data columns (total 12 columns):\n",
      "PassengerId    891 non-null int64\n",
      "Survived       891 non-null int64\n",
      "Pclass         891 non-null int64\n",
      "Name           891 non-null object\n",
      "Sex            891 non-null object\n",
      "Age            714 non-null float64\n",
      "SibSp          891 non-null int64\n",
      "Parch          891 non-null int64\n",
      "Ticket         891 non-null object\n",
      "Fare           891 non-null float64\n",
      "Cabin          204 non-null object\n",
      "Embarked       889 non-null object\n",
      "dtypes: float64(2), int64(5), object(5)\n",
      "memory usage: 83.6+ KB\n"
     ]
    }
   ],
   "source": [
    "# Data type descirption\n",
    "tdata.info()"
   ]
  },
  {
   "cell_type": "markdown",
   "metadata": {
    "deletable": true,
    "editable": true
   },
   "source": [
    "总共有12个变量，从data dictionary可以看出，Survived,Sex,Embarke,Pclass是分类数据catagorical data，其中Pclass是有序数据(1st>2nd>3rd)。\n",
    "\n",
    "尽管有7个变量是数值类型float/int，但在之后处理中用到的数值变量只有四个：Age,Fare,SibSp,Parch。\n",
    "\n",
    "Ticket和Cabin变量混合了数值与字母，需要进一步的处理。\n",
    "\n",
    "Name变量非常复杂（名字缩写，性别，称号等等...）而且很可能是没用的（个人偏见），除了某些royal/noble name可能和其他变量相关，但我缺少姓名相关的知识背景无法进行判断，可能会排除这类数据。\n",
    "\n",
    "Cabin,Age,Embarked三个变量存在空白或者null字段，需要进一步处理。"
   ]
  },
  {
   "cell_type": "markdown",
   "metadata": {
    "deletable": true,
    "editable": true
   },
   "source": [
    "### Simple observation of data 数据简单描述"
   ]
  },
  {
   "cell_type": "code",
   "execution_count": 4,
   "metadata": {
    "collapsed": false,
    "deletable": true,
    "editable": true
   },
   "outputs": [
    {
     "data": {
      "text/html": [
       "<div>\n",
       "<table border=\"1\" class=\"dataframe\">\n",
       "  <thead>\n",
       "    <tr style=\"text-align: right;\">\n",
       "      <th></th>\n",
       "      <th>PassengerId</th>\n",
       "      <th>Survived</th>\n",
       "      <th>Pclass</th>\n",
       "      <th>Age</th>\n",
       "      <th>SibSp</th>\n",
       "      <th>Parch</th>\n",
       "      <th>Fare</th>\n",
       "    </tr>\n",
       "  </thead>\n",
       "  <tbody>\n",
       "    <tr>\n",
       "      <th>count</th>\n",
       "      <td>891.000000</td>\n",
       "      <td>891.000000</td>\n",
       "      <td>891.000000</td>\n",
       "      <td>714.000000</td>\n",
       "      <td>891.000000</td>\n",
       "      <td>891.000000</td>\n",
       "      <td>891.000000</td>\n",
       "    </tr>\n",
       "    <tr>\n",
       "      <th>mean</th>\n",
       "      <td>446.000000</td>\n",
       "      <td>0.383838</td>\n",
       "      <td>2.308642</td>\n",
       "      <td>29.699118</td>\n",
       "      <td>0.523008</td>\n",
       "      <td>0.381594</td>\n",
       "      <td>32.204208</td>\n",
       "    </tr>\n",
       "    <tr>\n",
       "      <th>std</th>\n",
       "      <td>257.353842</td>\n",
       "      <td>0.486592</td>\n",
       "      <td>0.836071</td>\n",
       "      <td>14.526497</td>\n",
       "      <td>1.102743</td>\n",
       "      <td>0.806057</td>\n",
       "      <td>49.693429</td>\n",
       "    </tr>\n",
       "    <tr>\n",
       "      <th>min</th>\n",
       "      <td>1.000000</td>\n",
       "      <td>0.000000</td>\n",
       "      <td>1.000000</td>\n",
       "      <td>0.420000</td>\n",
       "      <td>0.000000</td>\n",
       "      <td>0.000000</td>\n",
       "      <td>0.000000</td>\n",
       "    </tr>\n",
       "    <tr>\n",
       "      <th>25%</th>\n",
       "      <td>223.500000</td>\n",
       "      <td>0.000000</td>\n",
       "      <td>2.000000</td>\n",
       "      <td>20.125000</td>\n",
       "      <td>0.000000</td>\n",
       "      <td>0.000000</td>\n",
       "      <td>7.910400</td>\n",
       "    </tr>\n",
       "    <tr>\n",
       "      <th>30%</th>\n",
       "      <td>268.000000</td>\n",
       "      <td>0.000000</td>\n",
       "      <td>2.000000</td>\n",
       "      <td>22.000000</td>\n",
       "      <td>0.000000</td>\n",
       "      <td>0.000000</td>\n",
       "      <td>8.050000</td>\n",
       "    </tr>\n",
       "    <tr>\n",
       "      <th>50%</th>\n",
       "      <td>446.000000</td>\n",
       "      <td>0.000000</td>\n",
       "      <td>3.000000</td>\n",
       "      <td>28.000000</td>\n",
       "      <td>0.000000</td>\n",
       "      <td>0.000000</td>\n",
       "      <td>14.454200</td>\n",
       "    </tr>\n",
       "    <tr>\n",
       "      <th>75%</th>\n",
       "      <td>668.500000</td>\n",
       "      <td>1.000000</td>\n",
       "      <td>3.000000</td>\n",
       "      <td>38.000000</td>\n",
       "      <td>1.000000</td>\n",
       "      <td>0.000000</td>\n",
       "      <td>31.000000</td>\n",
       "    </tr>\n",
       "    <tr>\n",
       "      <th>90%</th>\n",
       "      <td>802.000000</td>\n",
       "      <td>1.000000</td>\n",
       "      <td>3.000000</td>\n",
       "      <td>50.000000</td>\n",
       "      <td>1.000000</td>\n",
       "      <td>2.000000</td>\n",
       "      <td>77.958300</td>\n",
       "    </tr>\n",
       "    <tr>\n",
       "      <th>max</th>\n",
       "      <td>891.000000</td>\n",
       "      <td>1.000000</td>\n",
       "      <td>3.000000</td>\n",
       "      <td>80.000000</td>\n",
       "      <td>8.000000</td>\n",
       "      <td>6.000000</td>\n",
       "      <td>512.329200</td>\n",
       "    </tr>\n",
       "  </tbody>\n",
       "</table>\n",
       "</div>"
      ],
      "text/plain": [
       "       PassengerId    Survived      Pclass         Age       SibSp  \\\n",
       "count   891.000000  891.000000  891.000000  714.000000  891.000000   \n",
       "mean    446.000000    0.383838    2.308642   29.699118    0.523008   \n",
       "std     257.353842    0.486592    0.836071   14.526497    1.102743   \n",
       "min       1.000000    0.000000    1.000000    0.420000    0.000000   \n",
       "25%     223.500000    0.000000    2.000000   20.125000    0.000000   \n",
       "30%     268.000000    0.000000    2.000000   22.000000    0.000000   \n",
       "50%     446.000000    0.000000    3.000000   28.000000    0.000000   \n",
       "75%     668.500000    1.000000    3.000000   38.000000    1.000000   \n",
       "90%     802.000000    1.000000    3.000000   50.000000    1.000000   \n",
       "max     891.000000    1.000000    3.000000   80.000000    8.000000   \n",
       "\n",
       "            Parch        Fare  \n",
       "count  891.000000  891.000000  \n",
       "mean     0.381594   32.204208  \n",
       "std      0.806057   49.693429  \n",
       "min      0.000000    0.000000  \n",
       "25%      0.000000    7.910400  \n",
       "30%      0.000000    8.050000  \n",
       "50%      0.000000   14.454200  \n",
       "75%      0.000000   31.000000  \n",
       "90%      2.000000   77.958300  \n",
       "max      6.000000  512.329200  "
      ]
     },
     "execution_count": 4,
     "metadata": {},
     "output_type": "execute_result"
    }
   ],
   "source": [
    "#numerical data decription\n",
    "tdata.describe(percentiles=[.25,.30,.50,.75,.90]) #使用 percentiles=[.20, .90]等数值改变区间看比例"
   ]
  },
  {
   "cell_type": "markdown",
   "metadata": {
    "deletable": true,
    "editable": true
   },
   "source": [
    "在这个891人的样本中，平均存活率为38.4%。\n",
    "乘坐头等舱的乘客数量少于25%。\n",
    "大约90%的乘客年龄小于50岁，大约57%的乘客年龄小于30岁。\n",
    "\n",
    "大约30%的乘客是与兄弟姐妹或者夫妻(SibSp)一起登船。\n",
    "超过75%的乘客没有与父母或子女一起登船。"
   ]
  },
  {
   "cell_type": "code",
   "execution_count": 5,
   "metadata": {
    "collapsed": false,
    "deletable": true,
    "editable": true
   },
   "outputs": [
    {
     "data": {
      "text/html": [
       "<div>\n",
       "<table border=\"1\" class=\"dataframe\">\n",
       "  <thead>\n",
       "    <tr style=\"text-align: right;\">\n",
       "      <th></th>\n",
       "      <th>Name</th>\n",
       "      <th>Sex</th>\n",
       "      <th>Ticket</th>\n",
       "      <th>Cabin</th>\n",
       "      <th>Embarked</th>\n",
       "    </tr>\n",
       "  </thead>\n",
       "  <tbody>\n",
       "    <tr>\n",
       "      <th>count</th>\n",
       "      <td>891</td>\n",
       "      <td>891</td>\n",
       "      <td>891</td>\n",
       "      <td>204</td>\n",
       "      <td>889</td>\n",
       "    </tr>\n",
       "    <tr>\n",
       "      <th>unique</th>\n",
       "      <td>891</td>\n",
       "      <td>2</td>\n",
       "      <td>681</td>\n",
       "      <td>147</td>\n",
       "      <td>3</td>\n",
       "    </tr>\n",
       "    <tr>\n",
       "      <th>top</th>\n",
       "      <td>Graham, Mr. George Edward</td>\n",
       "      <td>male</td>\n",
       "      <td>CA. 2343</td>\n",
       "      <td>C23 C25 C27</td>\n",
       "      <td>S</td>\n",
       "    </tr>\n",
       "    <tr>\n",
       "      <th>freq</th>\n",
       "      <td>1</td>\n",
       "      <td>577</td>\n",
       "      <td>7</td>\n",
       "      <td>4</td>\n",
       "      <td>644</td>\n",
       "    </tr>\n",
       "  </tbody>\n",
       "</table>\n",
       "</div>"
      ],
      "text/plain": [
       "                             Name   Sex    Ticket        Cabin Embarked\n",
       "count                         891   891       891          204      889\n",
       "unique                        891     2       681          147        3\n",
       "top     Graham, Mr. George Edward  male  CA. 2343  C23 C25 C27        S\n",
       "freq                            1   577         7            4      644"
      ]
     },
     "execution_count": 5,
     "metadata": {},
     "output_type": "execute_result"
    }
   ],
   "source": [
    "tdata.describe(include=['O']) #string data description"
   ]
  },
  {
   "cell_type": "markdown",
   "metadata": {
    "deletable": true,
    "editable": true
   },
   "source": [
    "没有重名乘客。\n",
    "男性在乘客中占了65%。绝大部分乘客从S(Southampton)处登船。\n",
    "\n",
    "票号有大量重复，需要进一步处理。\n",
    "Cabin数据有大量重复以及缺失，需要进一步处理。"
   ]
  },
  {
   "cell_type": "markdown",
   "metadata": {
    "deletable": true,
    "editable": true
   },
   "source": [
    "### Cleanse of data 数据清理"
   ]
  },
  {
   "cell_type": "markdown",
   "metadata": {
    "deletable": true,
    "editable": true
   },
   "source": [
    "根据以上分析，可能需要进一步进行处理的数据有Age,Name, PassengerId, Ticket，Cabin，Embarked五项。\n",
    "\n",
    "数值类数据Age有部分缺失，但样本数量足够，不会对统计结果有太大影响。本项目中会用基于正态分布的随机数对Null项目进行填充。（当然也可以利用姓名中的Mrs,Miss等进行补全，本项目没有进行这一步）。另外在后续处理中需要将float转为int。"
   ]
  },
  {
   "cell_type": "code",
   "execution_count": 6,
   "metadata": {
    "collapsed": false,
    "deletable": true,
    "editable": true
   },
   "outputs": [
    {
     "name": "stderr",
     "output_type": "stream",
     "text": [
      "D:\\Anaconda2\\lib\\site-packages\\ipykernel\\__main__.py:14: SettingWithCopyWarning: \n",
      "A value is trying to be set on a copy of a slice from a DataFrame\n",
      "\n",
      "See the caveats in the documentation: http://pandas.pydata.org/pandas-docs/stable/indexing.html#indexing-view-versus-copy\n"
     ]
    },
    {
     "data": {
      "text/plain": [
       "<matplotlib.text.Text at 0xcfbe358>"
      ]
     },
     "execution_count": 6,
     "metadata": {},
     "output_type": "execute_result"
    },
    {
     "data": {
      "image/png": "[encoded data removed]",
      "text/plain": [
       "<matplotlib.figure.Figure at 0x4630a20>"
      ]
     },
     "metadata": {},
     "output_type": "display_data"
    }
   ],
   "source": [
    "# 计算均值标准差和需要填充的数量，为了之后的随机数生成做准备\n",
    "avage = tdata[\"Age\"].mean()\n",
    "stdage = tdata[\"Age\"].std()\n",
    "countmissingage = tdata[\"Age\"].isnull().sum()\n",
    "\n",
    "# 生成基于正态分布的随机数\n",
    "randage = np.random.randint(avage - stdage, avage + stdage, size = countmissingage)\n",
    "\n",
    "fig,(axis1,axis2) = plt.subplots(1,2,figsize = (16,4))\n",
    "# float转化为int，并且生成原数据柱状图\n",
    "sns.distplot(tdata['Age'].dropna().astype(int),ax = axis1).set_title('Original distribution')\n",
    "\n",
    "# 填充缺失值\n",
    "tdata[\"Age\"][np.isnan(tdata[\"Age\"])] = randage                           \n",
    "# float转换为int\n",
    "tdata['Age'] = tdata['Age'].astype(int)\n",
    "# 生成新数据柱状图\n",
    "sns.distplot(tdata['Age'],ax= axis2).set_title('New data distribution')"
   ]
  },
  {
   "cell_type": "markdown",
   "metadata": {
    "deletable": true,
    "editable": true
   },
   "source": [
    "由两个柱状图对比可以认为Age的Null填充是符合实际情况的。\n",
    "\n",
    "PassengerID显然与结论无关可以清除。\n",
    "Name由于过分复杂超过我目前能力范围，决定清除。\n",
    "Ticket存在大量重复，Cabin有大量缺失数据以及重复。本次项目暂时清除。以后可进行进一步处理。（根据常识判断，Ticket与Cabin，fare，Pclass可能是相关的。）"
   ]
  },
  {
   "cell_type": "code",
   "execution_count": 7,
   "metadata": {
    "collapsed": false,
    "deletable": true,
    "editable": true
   },
   "outputs": [],
   "source": [
    "tdata = tdata.drop(['PassengerId','Name','Ticket','Cabin'], axis = 1)"
   ]
  },
  {
   "cell_type": "markdown",
   "metadata": {
    "deletable": true,
    "editable": true
   },
   "source": [
    "Embarked数据只缺失了两个数据，保留。"
   ]
  },
  {
   "cell_type": "code",
   "execution_count": 8,
   "metadata": {
    "collapsed": true,
    "deletable": true,
    "editable": true
   },
   "outputs": [],
   "source": [
    "tdata[\"Embarked\"] = tdata[\"Embarked\"].fillna(\"S\") \n",
    "# S登船的出现比率最高，因此把2个空白项填充为S，可以基本不影响后续的分析"
   ]
  },
  {
   "cell_type": "code",
   "execution_count": 9,
   "metadata": {
    "collapsed": false,
    "deletable": true,
    "editable": true,
    "scrolled": true
   },
   "outputs": [
    {
     "name": "stdout",
     "output_type": "stream",
     "text": [
      "   Survived  Pclass     Sex  Age  SibSp  Parch     Fare Embarked\n",
      "0         0       3    male   22      1      0   7.2500        S\n",
      "1         1       1  female   38      1      0  71.2833        C\n",
      "2         1       3  female   26      0      0   7.9250        S\n",
      "3         1       1  female   35      1      0  53.1000        S\n",
      "4         0       3    male   35      0      0   8.0500        S\n",
      "         Survived      Pclass         Age       SibSp       Parch        Fare\n",
      "count  891.000000  891.000000  891.000000  891.000000  891.000000  891.000000\n",
      "mean     0.383838    2.308642   29.392817    0.523008    0.381594   32.204208\n",
      "std      0.486592    0.836071   13.579583    1.102743    0.806057   49.693429\n",
      "min      0.000000    1.000000    0.000000    0.000000    0.000000    0.000000\n",
      "25%      0.000000    2.000000   20.000000    0.000000    0.000000    7.910400\n",
      "50%      0.000000    3.000000   28.000000    0.000000    0.000000   14.454200\n",
      "75%      1.000000    3.000000   38.000000    1.000000    0.000000   31.000000\n",
      "max      1.000000    3.000000   80.000000    8.000000    6.000000  512.329200\n",
      "         Sex Embarked\n",
      "count    891      891\n",
      "unique     2        3\n",
      "top     male        S\n",
      "freq     577      646\n"
     ]
    }
   ],
   "source": [
    "print tdata.head() #preview again检查一下清理后的数据\n",
    "print tdata.describe()\n",
    "print tdata.describe(include=['O'])"
   ]
  },
  {
   "cell_type": "markdown",
   "metadata": {
    "deletable": true,
    "editable": true
   },
   "source": [
    "## 3.Analyze, identify patterns, and explore the data"
   ]
  },
  {
   "cell_type": "markdown",
   "metadata": {
    "deletable": true,
    "editable": true
   },
   "source": [
    "### Pclass"
   ]
  },
  {
   "cell_type": "code",
   "execution_count": 10,
   "metadata": {
    "collapsed": false,
    "deletable": true,
    "editable": true
   },
   "outputs": [
    {
     "data": {
      "text/html": [
       "<div>\n",
       "<table border=\"1\" class=\"dataframe\">\n",
       "  <thead>\n",
       "    <tr style=\"text-align: right;\">\n",
       "      <th></th>\n",
       "      <th>Pclass</th>\n",
       "      <th>Survived</th>\n",
       "    </tr>\n",
       "  </thead>\n",
       "  <tbody>\n",
       "    <tr>\n",
       "      <th>0</th>\n",
       "      <td>1</td>\n",
       "      <td>0.629630</td>\n",
       "    </tr>\n",
       "    <tr>\n",
       "      <th>1</th>\n",
       "      <td>2</td>\n",
       "      <td>0.472826</td>\n",
       "    </tr>\n",
       "    <tr>\n",
       "      <th>2</th>\n",
       "      <td>3</td>\n",
       "      <td>0.242363</td>\n",
       "    </tr>\n",
       "  </tbody>\n",
       "</table>\n",
       "</div>"
      ],
      "text/plain": [
       "   Pclass  Survived\n",
       "0       1  0.629630\n",
       "1       2  0.472826\n",
       "2       3  0.242363"
      ]
     },
     "execution_count": 10,
     "metadata": {},
     "output_type": "execute_result"
    }
   ],
   "source": [
    "#Pclass\n",
    "PclassS = tdata[['Survived','Pclass']].groupby(['Pclass'],as_index = False).mean()\n",
    "PclassS"
   ]
  },
  {
   "cell_type": "code",
   "execution_count": 11,
   "metadata": {
    "collapsed": false,
    "deletable": true,
    "editable": true
   },
   "outputs": [
    {
     "data": {
      "text/plain": [
       "<matplotlib.axes._subplots.AxesSubplot at 0xdda80b8>"
      ]
     },
     "execution_count": 11,
     "metadata": {},
     "output_type": "execute_result"
    },
    {
     "data": {
      "image/png": "[encoded data removed]",
      "text/plain": [
       "<matplotlib.figure.Figure at 0xcf7e908>"
      ]
     },
     "metadata": {},
     "output_type": "display_data"
    }
   ],
   "source": [
    "# http://seaborn.pydata.org/tutorial/categorical.html\n",
    "fig,(axis1, axis2) = plt.subplots(1,2,figsize=(16,4))\n",
    "sns.countplot(x= 'Pclass', data = tdata, ax = axis1) #不同舱位的人数对比\n",
    "sns.barplot(x = 'Pclass' , y = 'Survived', data = PclassS) #不同舱位的平均生存率对比"
   ]
  },
  {
   "cell_type": "markdown",
   "metadata": {
    "deletable": true,
    "editable": true
   },
   "source": [
    "舱位与生存率正相关。这与实际观察相符，因为头等舱通常在上层，靠近甲板，逃生方便。"
   ]
  },
  {
   "cell_type": "markdown",
   "metadata": {
    "deletable": true,
    "editable": true
   },
   "source": [
    "### Sex"
   ]
  },
  {
   "cell_type": "code",
   "execution_count": 12,
   "metadata": {
    "collapsed": false,
    "deletable": true,
    "editable": true
   },
   "outputs": [
    {
     "data": {
      "text/html": [
       "<div>\n",
       "<table border=\"1\" class=\"dataframe\">\n",
       "  <thead>\n",
       "    <tr style=\"text-align: right;\">\n",
       "      <th></th>\n",
       "      <th>Sex</th>\n",
       "      <th>Survived</th>\n",
       "    </tr>\n",
       "  </thead>\n",
       "  <tbody>\n",
       "    <tr>\n",
       "      <th>0</th>\n",
       "      <td>female</td>\n",
       "      <td>0.742038</td>\n",
       "    </tr>\n",
       "    <tr>\n",
       "      <th>1</th>\n",
       "      <td>male</td>\n",
       "      <td>0.188908</td>\n",
       "    </tr>\n",
       "  </tbody>\n",
       "</table>\n",
       "</div>"
      ],
      "text/plain": [
       "      Sex  Survived\n",
       "0  female  0.742038\n",
       "1    male  0.188908"
      ]
     },
     "execution_count": 12,
     "metadata": {},
     "output_type": "execute_result"
    }
   ],
   "source": [
    "SexS = tdata[['Survived','Sex']].groupby(['Sex'],as_index = False).mean()\n",
    "SexS"
   ]
  },
  {
   "cell_type": "code",
   "execution_count": 13,
   "metadata": {
    "collapsed": false,
    "deletable": true,
    "editable": true
   },
   "outputs": [
    {
     "data": {
      "text/plain": [
       "<matplotlib.axes._subplots.AxesSubplot at 0xe147128>"
      ]
     },
     "execution_count": 13,
     "metadata": {},
     "output_type": "execute_result"
    },
    {
     "data": {
      "image/png": "[encoded data removed]",
      "text/plain": [
       "<matplotlib.figure.Figure at 0xdf22f60>"
      ]
     },
     "metadata": {},
     "output_type": "display_data"
    }
   ],
   "source": [
    "#plots\n",
    "fig,(axis1, axis2) = plt.subplots(1,2,figsize=(12,4))\n",
    "sns.countplot(x= 'Sex', data = tdata, ax = axis1) #不同舱位的人数对比\n",
    "sns.barplot(x = 'Sex' , y = 'Survived', data = SexS) #不同性别人群的平均生存率"
   ]
  },
  {
   "cell_type": "code",
   "execution_count": 14,
   "metadata": {
    "collapsed": false,
    "deletable": true,
    "editable": true
   },
   "outputs": [],
   "source": [
    "tdataSexPclass = tdata[['Survived','Sex', 'Pclass']].groupby(['Sex','Pclass'],as_index = False).mean()"
   ]
  },
  {
   "cell_type": "code",
   "execution_count": 15,
   "metadata": {
    "collapsed": false,
    "deletable": true,
    "editable": true
   },
   "outputs": [
    {
     "data": {
      "text/html": [
       "<div>\n",
       "<table border=\"1\" class=\"dataframe\">\n",
       "  <thead>\n",
       "    <tr style=\"text-align: right;\">\n",
       "      <th></th>\n",
       "      <th>Sex</th>\n",
       "      <th>Pclass</th>\n",
       "      <th>Survived</th>\n",
       "    </tr>\n",
       "  </thead>\n",
       "  <tbody>\n",
       "    <tr>\n",
       "      <th>0</th>\n",
       "      <td>female</td>\n",
       "      <td>1</td>\n",
       "      <td>0.968085</td>\n",
       "    </tr>\n",
       "    <tr>\n",
       "      <th>1</th>\n",
       "      <td>female</td>\n",
       "      <td>2</td>\n",
       "      <td>0.921053</td>\n",
       "    </tr>\n",
       "    <tr>\n",
       "      <th>2</th>\n",
       "      <td>female</td>\n",
       "      <td>3</td>\n",
       "      <td>0.500000</td>\n",
       "    </tr>\n",
       "    <tr>\n",
       "      <th>3</th>\n",
       "      <td>male</td>\n",
       "      <td>1</td>\n",
       "      <td>0.368852</td>\n",
       "    </tr>\n",
       "    <tr>\n",
       "      <th>4</th>\n",
       "      <td>male</td>\n",
       "      <td>2</td>\n",
       "      <td>0.157407</td>\n",
       "    </tr>\n",
       "    <tr>\n",
       "      <th>5</th>\n",
       "      <td>male</td>\n",
       "      <td>3</td>\n",
       "      <td>0.135447</td>\n",
       "    </tr>\n",
       "  </tbody>\n",
       "</table>\n",
       "</div>"
      ],
      "text/plain": [
       "      Sex  Pclass  Survived\n",
       "0  female       1  0.968085\n",
       "1  female       2  0.921053\n",
       "2  female       3  0.500000\n",
       "3    male       1  0.368852\n",
       "4    male       2  0.157407\n",
       "5    male       3  0.135447"
      ]
     },
     "execution_count": 15,
     "metadata": {},
     "output_type": "execute_result"
    }
   ],
   "source": [
    "tdataSexPclass #基于舱位与性别两个变量的平均生存率统计"
   ]
  },
  {
   "cell_type": "code",
   "execution_count": 16,
   "metadata": {
    "collapsed": false,
    "deletable": true,
    "editable": true
   },
   "outputs": [
    {
     "data": {
      "text/plain": [
       "<matplotlib.axes._subplots.AxesSubplot at 0xe5195f8>"
      ]
     },
     "execution_count": 16,
     "metadata": {},
     "output_type": "execute_result"
    },
    {
     "data": {
      "image/png": "[encoded data removed]",
      "text/plain": [
       "<matplotlib.figure.Figure at 0xe15fe10>"
      ]
     },
     "metadata": {},
     "output_type": "display_data"
    }
   ],
   "source": [
    "fig,(axis1, axis2) = plt.subplots(1,2,figsize=(16,4))\n",
    "sns.countplot(x= 'Sex', hue = 'Pclass',data = tdata, ax = axis1) #不同舱位/性别的人数对比\n",
    "sns.barplot(x = 'Sex' , y = 'Survived', hue = 'Pclass', data = tdataSexPclass)\n",
    "#基于舱位与性别两个变量的平均生存率对比"
   ]
  },
  {
   "cell_type": "markdown",
   "metadata": {
    "deletable": true,
    "editable": true
   },
   "source": [
    "无论在何种舱位，女性的生存率都远高于男性，这也符合历史真实情况。"
   ]
  },
  {
   "cell_type": "markdown",
   "metadata": {
    "deletable": true,
    "editable": true
   },
   "source": [
    "### Age"
   ]
  },
  {
   "cell_type": "code",
   "execution_count": 17,
   "metadata": {
    "collapsed": false,
    "deletable": true,
    "editable": true
   },
   "outputs": [
    {
     "data": {
      "text/plain": [
       "<seaborn.axisgrid.FacetGrid at 0xe62d400>"
      ]
     },
     "execution_count": 17,
     "metadata": {},
     "output_type": "execute_result"
    },
    {
     "data": {
      "image/png": "[encoded data removed]",
      "text/plain": [
       "<matplotlib.figure.Figure at 0xe62d4a8>"
      ]
     },
     "metadata": {},
     "output_type": "display_data"
    }
   ],
   "source": [
    "# http://seaborn.pydata.org/generated/seaborn.FacetGrid.html#seaborn.FacetGrid\n",
    "facet = sns.FacetGrid(tdata, hue=\"Survived\",aspect=4)\n",
    "facet.map(sns.kdeplot,'Age',shade= True).add_legend() #各年龄基于生存与否的密度函数\n",
    "facet.set(xlim=(0, 80)) "
   ]
  },
  {
   "cell_type": "markdown",
   "metadata": {
    "deletable": true,
    "editable": true
   },
   "source": [
    "观察密度曲线，可以发现一个接近15的区间，例如0-15岁人群生存率显著高于平均，15-30岁低于平均。因此对年龄进行分层研究。"
   ]
  },
  {
   "cell_type": "code",
   "execution_count": 18,
   "metadata": {
    "collapsed": false,
    "deletable": true,
    "editable": true
   },
   "outputs": [
    {
     "data": {
      "text/html": [
       "<div>\n",
       "<table border=\"1\" class=\"dataframe\">\n",
       "  <thead>\n",
       "    <tr style=\"text-align: right;\">\n",
       "      <th></th>\n",
       "      <th>Age_group</th>\n",
       "      <th>Survived</th>\n",
       "    </tr>\n",
       "  </thead>\n",
       "  <tbody>\n",
       "    <tr>\n",
       "      <th>0</th>\n",
       "      <td>(0, 15]</td>\n",
       "      <td>0.543210</td>\n",
       "    </tr>\n",
       "    <tr>\n",
       "      <th>1</th>\n",
       "      <td>(15, 30]</td>\n",
       "      <td>0.340961</td>\n",
       "    </tr>\n",
       "    <tr>\n",
       "      <th>2</th>\n",
       "      <td>(30, 45]</td>\n",
       "      <td>0.392453</td>\n",
       "    </tr>\n",
       "    <tr>\n",
       "      <th>3</th>\n",
       "      <td>(45, 60]</td>\n",
       "      <td>0.417722</td>\n",
       "    </tr>\n",
       "    <tr>\n",
       "      <th>4</th>\n",
       "      <td>(60, 75]</td>\n",
       "      <td>0.190476</td>\n",
       "    </tr>\n",
       "  </tbody>\n",
       "</table>\n",
       "</div>"
      ],
      "text/plain": [
       "  Age_group  Survived\n",
       "0   (0, 15]  0.543210\n",
       "1  (15, 30]  0.340961\n",
       "2  (30, 45]  0.392453\n",
       "3  (45, 60]  0.417722\n",
       "4  (60, 75]  0.190476"
      ]
     },
     "execution_count": 18,
     "metadata": {},
     "output_type": "execute_result"
    }
   ],
   "source": [
    "bins = np.arange(0,80,15)\n",
    "tdata['Age_group'] = pd.cut(tdata['Age'], bins) #以15岁为区间划分年龄层，75岁以上只有一人，因此不影响整体结果。\n",
    "byage = tdata[['Age_group','Survived']].groupby(['Age_group'],as_index = False).mean()\n",
    "byage"
   ]
  },
  {
   "cell_type": "code",
   "execution_count": 19,
   "metadata": {
    "collapsed": false,
    "deletable": true,
    "editable": true
   },
   "outputs": [
    {
     "data": {
      "text/plain": [
       "<matplotlib.axes._subplots.AxesSubplot at 0xf106a90>"
      ]
     },
     "execution_count": 19,
     "metadata": {},
     "output_type": "execute_result"
    },
    {
     "data": {
      "image/png": "[encoded data removed]",
      "text/plain": [
       "<matplotlib.figure.Figure at 0xee8b2b0>"
      ]
     },
     "metadata": {},
     "output_type": "display_data"
    }
   ],
   "source": [
    "fig,(axis1,axis2) = plt.subplots(1,2, figsize = (16,4))\n",
    "sns.countplot(x = 'Age_group', data = tdata, ax = axis1) #各年龄层人数图\n",
    "sns.barplot(x = 'Age_group', y = 'Survived', data = byage) #各年龄层生存率的柱状图"
   ]
  },
  {
   "cell_type": "code",
   "execution_count": 20,
   "metadata": {
    "collapsed": false,
    "deletable": true,
    "editable": true
   },
   "outputs": [
    {
     "data": {
      "text/plain": [
       "Survived    22\n",
       "Age         22\n",
       "dtype: int64"
      ]
     },
     "execution_count": 20,
     "metadata": {},
     "output_type": "execute_result"
    }
   ],
   "source": [
    "tdata[['Survived','Age']].loc[tdata[\"Age\"] > 60].count()# 检查样本量"
   ]
  },
  {
   "cell_type": "markdown",
   "metadata": {
    "deletable": true,
    "editable": true
   },
   "source": [
    "由两张图可以发现，儿童（小于15岁）的生存率显著高于平均值，45-60岁的群体生存率也略高于平均。检查了样本数量，保证了这不是小概率事件，结论正确。"
   ]
  },
  {
   "cell_type": "markdown",
   "metadata": {
    "deletable": true,
    "editable": true
   },
   "source": [
    "### SibSp & Parch - Family"
   ]
  },
  {
   "cell_type": "markdown",
   "metadata": {
    "deletable": true,
    "editable": true
   },
   "source": [
    "SibSp和Parch都是有关家庭成员数量的变量，虽然两者有所区别，但区别可能不明显，因此创建两个新变量来研究这种关系。Alone（True,False）表示是否一个人登船，Family表示一同登船的家庭成员总数量。"
   ]
  },
  {
   "cell_type": "code",
   "execution_count": 21,
   "metadata": {
    "collapsed": false,
    "deletable": true,
    "editable": true
   },
   "outputs": [],
   "source": [
    "tdata['Family'] =  tdata[\"Parch\"] + tdata[\"SibSp\"]  #Family表示一同登船的家庭成员总数量。"
   ]
  },
  {
   "cell_type": "code",
   "execution_count": 22,
   "metadata": {
    "collapsed": false,
    "deletable": true,
    "editable": true
   },
   "outputs": [],
   "source": [
    "tdata['Alone'] = tdata['Family'] == 0 #Alone（True,False）表示是否一个人登船"
   ]
  },
  {
   "cell_type": "code",
   "execution_count": 23,
   "metadata": {
    "collapsed": false,
    "deletable": true,
    "editable": true
   },
   "outputs": [],
   "source": [
    "SibspS = tdata[['SibSp','Survived']].groupby(['SibSp'],as_index = False).mean()\n",
    "ParchS = tdata[['Parch','Survived']].groupby(['Parch'],as_index = False).mean()"
   ]
  },
  {
   "cell_type": "code",
   "execution_count": 24,
   "metadata": {
    "collapsed": false,
    "deletable": true,
    "editable": true
   },
   "outputs": [],
   "source": [
    "AloneS = tdata[['Alone','Survived']].groupby(['Alone'],as_index = False).mean()\n",
    "FamilyS = tdata[['Family','Survived']].groupby(['Family'],as_index = False).mean()"
   ]
  },
  {
   "cell_type": "code",
   "execution_count": 25,
   "metadata": {
    "collapsed": false,
    "deletable": true,
    "editable": true
   },
   "outputs": [
    {
     "data": {
      "text/plain": [
       "<matplotlib.axes._subplots.AxesSubplot at 0xfcfbc18>"
      ]
     },
     "execution_count": 25,
     "metadata": {},
     "output_type": "execute_result"
    },
    {
     "data": {
      "image/png": "[encoded data removed]",
      "text/plain": [
       "<matplotlib.figure.Figure at 0xf284978>"
      ]
     },
     "metadata": {},
     "output_type": "display_data"
    },
    {
     "data": {
      "image/png": "[encoded data removed]",
      "text/plain": [
       "<matplotlib.figure.Figure at 0xe6d75f8>"
      ]
     },
     "metadata": {},
     "output_type": "display_data"
    },
    {
     "data": {
      "image/png": "[encoded data removed]",
      "text/plain": [
       "<matplotlib.figure.Figure at 0xf840ba8>"
      ]
     },
     "metadata": {},
     "output_type": "display_data"
    }
   ],
   "source": [
    "#plots：Sibsp、Parch、family三个变量的人数与生存率的关系\n",
    "fig,(axis1,axis2, axis3) = plt.subplots(1,3,sharex = True, figsize = (16,3)) #三个变量人数图形\n",
    "sns.countplot(x = 'SibSp', data = tdata, ax = axis1)\n",
    "sns.countplot(x = 'Parch', data = tdata, ax = axis2)\n",
    "sns.countplot(x = 'Family', data = tdata, ax = axis3)\n",
    "fig,(axis1,axis2, axis3) = plt.subplots(1,3,sharex = True, figsize = (16,3)) #三个变量与生存率关系图\n",
    "sns.barplot(x = 'SibSp', y = 'Survived', data = SibspS, ax = axis1)\n",
    "sns.barplot(x = 'Parch', y = 'Survived', data = ParchS, ax = axis2)\n",
    "sns.barplot(x = 'Family', y = 'Survived', data = FamilyS, ax = axis3)\n",
    "fig,(axis1,axis2) = plt.subplots(1,2,sharex = True, figsize = (10,4))\n",
    "sns.countplot(x = 'Alone', data = tdata, ax = axis1) #独自旅行与否的人数图\n",
    "sns.barplot(x = 'Alone', y = 'Survived',data = AloneS)#是否独自旅行与生存率关系"
   ]
  },
  {
   "cell_type": "code",
   "execution_count": 26,
   "metadata": {
    "collapsed": false,
    "deletable": true,
    "editable": true
   },
   "outputs": [
    {
     "name": "stdout",
     "output_type": "stream",
     "text": [
      "16\n",
      "5\n"
     ]
    }
   ],
   "source": [
    "print (tdata[\"SibSp\"] == 3).sum() # 检查SibSp = 3的样本数量\n",
    "print (tdata['Parch'] == 3).sum() # 检查Parch = 3的样本数量"
   ]
  },
  {
   "cell_type": "markdown",
   "metadata": {
    "deletable": true,
    "editable": true
   },
   "source": [
    "由以上barplots可以发现：\n",
    "1.有家庭成员一同登船的乘客最终生存率要高出独自旅行的乘客近65%。\n",
    "2.在与家庭成员一同登船的乘客中，家庭成员数量为1-3个的生存率较高，当超过4个时，生存率变得很低，甚至低于平均的生存率。\n",
    "3.SibSp与Parch对于是否生存的影响类似，只在SibSp/Parch = 3时有显著差异,但这很可能是由于样本数量小导致的。"
   ]
  },
  {
   "cell_type": "markdown",
   "metadata": {
    "deletable": true,
    "editable": true
   },
   "source": [
    "### Fare"
   ]
  },
  {
   "cell_type": "code",
   "execution_count": 27,
   "metadata": {
    "collapsed": false,
    "deletable": true,
    "editable": true
   },
   "outputs": [],
   "source": [
    "# 建立一个生存与死亡乘客的票价对比dataframe\n",
    "fareS = pd.DataFrame()\n",
    "fareS[\"Fare_all\"] = tdata['Fare'] #保证新dataframe有891行，有别的方法吗？\n",
    "fareS['Nonsurvived'] = 0 + tdata[['Fare']].loc[tdata['Survived'] == 0]\n",
    "fareS['Survived'] = 0 + tdata[['Fare']].loc[tdata['Survived'] == 1]\n",
    "del fareS['Fare_all']"
   ]
  },
  {
   "cell_type": "code",
   "execution_count": 28,
   "metadata": {
    "collapsed": false,
    "deletable": true,
    "editable": true
   },
   "outputs": [
    {
     "data": {
      "text/plain": [
       "[<matplotlib.text.Text at 0x10554128>]"
      ]
     },
     "execution_count": 28,
     "metadata": {},
     "output_type": "execute_result"
    },
    {
     "data": {
      "image/png": "[encoded data removed]",
      "text/plain": [
       "<matplotlib.figure.Figure at 0xe3b6208>"
      ]
     },
     "metadata": {},
     "output_type": "display_data"
    },
    {
     "data": {
      "image/png": "[encoded data removed]",
      "text/plain": [
       "<matplotlib.figure.Figure at 0xf1e66a0>"
      ]
     },
     "metadata": {},
     "output_type": "display_data"
    }
   ],
   "source": [
    "#plots\n",
    "sns.barplot(data = fareS).set(ylabel = 'mean of fare price')  # 存活乘客与死亡乘客的平均票价对比\n",
    "fig,(axis1) = plt.subplots(1,1,sharex = True, figsize = (16,4))\n",
    "sns.boxplot(data = fareS, orient = 'h',width = 0.5, ax = axis1).set(xlabel = 'fare price') \n",
    "#存活乘客与死亡乘客的平均票价对比（箱线图）"
   ]
  },
  {
   "cell_type": "markdown",
   "metadata": {
    "deletable": true,
    "editable": true
   },
   "source": [
    "从票价来看，存活下来的乘客所付的票价比死亡乘客所付票价要高，原因可能是高票价与舱位正相关（如下图）。"
   ]
  },
  {
   "cell_type": "code",
   "execution_count": 29,
   "metadata": {
    "collapsed": false,
    "deletable": true,
    "editable": true
   },
   "outputs": [
    {
     "data": {
      "text/plain": [
       "<seaborn.axisgrid.FacetGrid at 0xee8bc18>"
      ]
     },
     "execution_count": 29,
     "metadata": {},
     "output_type": "execute_result"
    },
    {
     "data": {
      "image/png": "[encoded data removed]",
      "text/plain": [
       "<matplotlib.figure.Figure at 0xf266470>"
      ]
     },
     "metadata": {},
     "output_type": "display_data"
    }
   ],
   "source": [
    "# 用lmplot来展示fare和Pclass之间的正相关\n",
    "sns.lmplot(x=\"Fare\", y=\"Pclass\", hue = 'Survived',scatter = True, fit_reg = True, \\\n",
    "           data = tdata, size = 4, aspect = 3) \n",
    "# http://seaborn.pydata.org/generated/seaborn.lmplot.html#seaborn.lmplot有更好的可视化方式吗？"
   ]
  },
  {
   "cell_type": "markdown",
   "metadata": {
    "deletable": true,
    "editable": true
   },
   "source": [
    "### Embarked"
   ]
  },
  {
   "cell_type": "code",
   "execution_count": 30,
   "metadata": {
    "collapsed": false,
    "deletable": true,
    "editable": true
   },
   "outputs": [
    {
     "data": {
      "text/html": [
       "<div>\n",
       "<table border=\"1\" class=\"dataframe\">\n",
       "  <thead>\n",
       "    <tr style=\"text-align: right;\">\n",
       "      <th></th>\n",
       "      <th>Embarked</th>\n",
       "      <th>Survived</th>\n",
       "    </tr>\n",
       "  </thead>\n",
       "  <tbody>\n",
       "    <tr>\n",
       "      <th>0</th>\n",
       "      <td>C</td>\n",
       "      <td>0.553571</td>\n",
       "    </tr>\n",
       "    <tr>\n",
       "      <th>1</th>\n",
       "      <td>Q</td>\n",
       "      <td>0.389610</td>\n",
       "    </tr>\n",
       "    <tr>\n",
       "      <th>2</th>\n",
       "      <td>S</td>\n",
       "      <td>0.339009</td>\n",
       "    </tr>\n",
       "  </tbody>\n",
       "</table>\n",
       "</div>"
      ],
      "text/plain": [
       "  Embarked  Survived\n",
       "0        C  0.553571\n",
       "1        Q  0.389610\n",
       "2        S  0.339009"
      ]
     },
     "execution_count": 30,
     "metadata": {},
     "output_type": "execute_result"
    }
   ],
   "source": [
    "# 检查各港口登船人群的生存率\n",
    "embarkS = tdata[['Embarked','Survived']].groupby(['Embarked'], as_index = False).mean()\n",
    "embarkS"
   ]
  },
  {
   "cell_type": "code",
   "execution_count": 31,
   "metadata": {
    "collapsed": false,
    "deletable": true,
    "editable": true,
    "scrolled": false
   },
   "outputs": [
    {
     "data": {
      "text/plain": [
       "<matplotlib.axes._subplots.AxesSubplot at 0xf5dc400>"
      ]
     },
     "execution_count": 31,
     "metadata": {},
     "output_type": "execute_result"
    },
    {
     "data": {
      "image/png": "[encoded data removed]",
      "text/plain": [
       "<matplotlib.figure.Figure at 0x10b9cdd8>"
      ]
     },
     "metadata": {},
     "output_type": "display_data"
    }
   ],
   "source": [
    "# plots\n",
    "fig, (axis1,axis2,axis3) = plt.subplots(1,3,figsize=(15,5))\n",
    "sns.barplot(data = embarkS,x = 'Embarked', y = 'Survived',order = ['S','C','Q'], ax = axis1) #各港口个平均生还率\n",
    "sns.countplot(x='Embarked', data=tdata, ax=axis2) # 各港口登船人数\n",
    "sns.countplot(x='Survived', hue=\"Embarked\", data=tdata, ax=axis3) #各港口生还人数"
   ]
  },
  {
   "cell_type": "markdown",
   "metadata": {
    "deletable": true,
    "editable": true
   },
   "source": [
    "发现一个有趣的现象，从C港登船的人，生存率显著高于平均值，S港登船的人生存率略低于平均值，这似乎有悖常识，需要进行进一步的研究。"
   ]
  },
  {
   "cell_type": "code",
   "execution_count": 32,
   "metadata": {
    "collapsed": false,
    "deletable": true,
    "editable": true
   },
   "outputs": [
    {
     "data": {
      "text/html": [
       "<div>\n",
       "<table border=\"1\" class=\"dataframe\">\n",
       "  <thead>\n",
       "    <tr style=\"text-align: right;\">\n",
       "      <th></th>\n",
       "      <th>Survived</th>\n",
       "      <th>Pclass</th>\n",
       "      <th>Age</th>\n",
       "      <th>SibSp</th>\n",
       "      <th>Parch</th>\n",
       "      <th>Fare</th>\n",
       "      <th>Family</th>\n",
       "    </tr>\n",
       "  </thead>\n",
       "  <tbody>\n",
       "    <tr>\n",
       "      <th>count</th>\n",
       "      <td>168.000000</td>\n",
       "      <td>168.000000</td>\n",
       "      <td>168.000000</td>\n",
       "      <td>168.000000</td>\n",
       "      <td>168.000000</td>\n",
       "      <td>168.000000</td>\n",
       "      <td>168.000000</td>\n",
       "    </tr>\n",
       "    <tr>\n",
       "      <th>mean</th>\n",
       "      <td>0.553571</td>\n",
       "      <td>1.886905</td>\n",
       "      <td>30.535714</td>\n",
       "      <td>0.386905</td>\n",
       "      <td>0.363095</td>\n",
       "      <td>59.954144</td>\n",
       "      <td>0.750000</td>\n",
       "    </tr>\n",
       "    <tr>\n",
       "      <th>std</th>\n",
       "      <td>0.498608</td>\n",
       "      <td>0.944100</td>\n",
       "      <td>14.172544</td>\n",
       "      <td>0.557213</td>\n",
       "      <td>0.660481</td>\n",
       "      <td>83.912994</td>\n",
       "      <td>0.926974</td>\n",
       "    </tr>\n",
       "    <tr>\n",
       "      <th>min</th>\n",
       "      <td>0.000000</td>\n",
       "      <td>1.000000</td>\n",
       "      <td>0.000000</td>\n",
       "      <td>0.000000</td>\n",
       "      <td>0.000000</td>\n",
       "      <td>4.012500</td>\n",
       "      <td>0.000000</td>\n",
       "    </tr>\n",
       "    <tr>\n",
       "      <th>25%</th>\n",
       "      <td>0.000000</td>\n",
       "      <td>1.000000</td>\n",
       "      <td>21.750000</td>\n",
       "      <td>0.000000</td>\n",
       "      <td>0.000000</td>\n",
       "      <td>13.697950</td>\n",
       "      <td>0.000000</td>\n",
       "    </tr>\n",
       "    <tr>\n",
       "      <th>50%</th>\n",
       "      <td>1.000000</td>\n",
       "      <td>1.000000</td>\n",
       "      <td>29.000000</td>\n",
       "      <td>0.000000</td>\n",
       "      <td>0.000000</td>\n",
       "      <td>29.700000</td>\n",
       "      <td>0.000000</td>\n",
       "    </tr>\n",
       "    <tr>\n",
       "      <th>75%</th>\n",
       "      <td>1.000000</td>\n",
       "      <td>3.000000</td>\n",
       "      <td>40.000000</td>\n",
       "      <td>1.000000</td>\n",
       "      <td>1.000000</td>\n",
       "      <td>78.500025</td>\n",
       "      <td>1.000000</td>\n",
       "    </tr>\n",
       "    <tr>\n",
       "      <th>max</th>\n",
       "      <td>1.000000</td>\n",
       "      <td>3.000000</td>\n",
       "      <td>71.000000</td>\n",
       "      <td>2.000000</td>\n",
       "      <td>3.000000</td>\n",
       "      <td>512.329200</td>\n",
       "      <td>4.000000</td>\n",
       "    </tr>\n",
       "  </tbody>\n",
       "</table>\n",
       "</div>"
      ],
      "text/plain": [
       "         Survived      Pclass         Age       SibSp       Parch        Fare  \\\n",
       "count  168.000000  168.000000  168.000000  168.000000  168.000000  168.000000   \n",
       "mean     0.553571    1.886905   30.535714    0.386905    0.363095   59.954144   \n",
       "std      0.498608    0.944100   14.172544    0.557213    0.660481   83.912994   \n",
       "min      0.000000    1.000000    0.000000    0.000000    0.000000    4.012500   \n",
       "25%      0.000000    1.000000   21.750000    0.000000    0.000000   13.697950   \n",
       "50%      1.000000    1.000000   29.000000    0.000000    0.000000   29.700000   \n",
       "75%      1.000000    3.000000   40.000000    1.000000    1.000000   78.500025   \n",
       "max      1.000000    3.000000   71.000000    2.000000    3.000000  512.329200   \n",
       "\n",
       "           Family  \n",
       "count  168.000000  \n",
       "mean     0.750000  \n",
       "std      0.926974  \n",
       "min      0.000000  \n",
       "25%      0.000000  \n",
       "50%      0.000000  \n",
       "75%      1.000000  \n",
       "max      4.000000  "
      ]
     },
     "execution_count": 32,
     "metadata": {},
     "output_type": "execute_result"
    }
   ],
   "source": [
    "Cdata = tdata.loc[tdata['Embarked'] == 'C']#单独检查C港登船人\n",
    "Cdata.describe() "
   ]
  },
  {
   "cell_type": "code",
   "execution_count": 33,
   "metadata": {
    "collapsed": false,
    "deletable": true,
    "editable": true
   },
   "outputs": [
    {
     "data": {
      "text/html": [
       "<div>\n",
       "<table border=\"1\" class=\"dataframe\">\n",
       "  <thead>\n",
       "    <tr style=\"text-align: right;\">\n",
       "      <th></th>\n",
       "      <th>Survived</th>\n",
       "      <th>Pclass</th>\n",
       "      <th>Age</th>\n",
       "      <th>SibSp</th>\n",
       "      <th>Parch</th>\n",
       "      <th>Fare</th>\n",
       "      <th>Family</th>\n",
       "    </tr>\n",
       "  </thead>\n",
       "  <tbody>\n",
       "    <tr>\n",
       "      <th>count</th>\n",
       "      <td>646.000000</td>\n",
       "      <td>646.000000</td>\n",
       "      <td>646.000000</td>\n",
       "      <td>646.000000</td>\n",
       "      <td>646.000000</td>\n",
       "      <td>646.000000</td>\n",
       "      <td>646.000000</td>\n",
       "    </tr>\n",
       "    <tr>\n",
       "      <th>mean</th>\n",
       "      <td>0.339009</td>\n",
       "      <td>2.346749</td>\n",
       "      <td>29.329721</td>\n",
       "      <td>0.569659</td>\n",
       "      <td>0.411765</td>\n",
       "      <td>27.243651</td>\n",
       "      <td>0.981424</td>\n",
       "    </tr>\n",
       "    <tr>\n",
       "      <th>std</th>\n",
       "      <td>0.473740</td>\n",
       "      <td>0.791748</td>\n",
       "      <td>13.590624</td>\n",
       "      <td>1.215128</td>\n",
       "      <td>0.852239</td>\n",
       "      <td>35.952905</td>\n",
       "      <td>1.773088</td>\n",
       "    </tr>\n",
       "    <tr>\n",
       "      <th>min</th>\n",
       "      <td>0.000000</td>\n",
       "      <td>1.000000</td>\n",
       "      <td>0.000000</td>\n",
       "      <td>0.000000</td>\n",
       "      <td>0.000000</td>\n",
       "      <td>0.000000</td>\n",
       "      <td>0.000000</td>\n",
       "    </tr>\n",
       "    <tr>\n",
       "      <th>25%</th>\n",
       "      <td>0.000000</td>\n",
       "      <td>2.000000</td>\n",
       "      <td>20.000000</td>\n",
       "      <td>0.000000</td>\n",
       "      <td>0.000000</td>\n",
       "      <td>8.050000</td>\n",
       "      <td>0.000000</td>\n",
       "    </tr>\n",
       "    <tr>\n",
       "      <th>50%</th>\n",
       "      <td>0.000000</td>\n",
       "      <td>3.000000</td>\n",
       "      <td>28.000000</td>\n",
       "      <td>0.000000</td>\n",
       "      <td>0.000000</td>\n",
       "      <td>13.000000</td>\n",
       "      <td>0.000000</td>\n",
       "    </tr>\n",
       "    <tr>\n",
       "      <th>75%</th>\n",
       "      <td>1.000000</td>\n",
       "      <td>3.000000</td>\n",
       "      <td>38.000000</td>\n",
       "      <td>1.000000</td>\n",
       "      <td>0.000000</td>\n",
       "      <td>27.900000</td>\n",
       "      <td>1.000000</td>\n",
       "    </tr>\n",
       "    <tr>\n",
       "      <th>max</th>\n",
       "      <td>1.000000</td>\n",
       "      <td>3.000000</td>\n",
       "      <td>80.000000</td>\n",
       "      <td>8.000000</td>\n",
       "      <td>6.000000</td>\n",
       "      <td>263.000000</td>\n",
       "      <td>10.000000</td>\n",
       "    </tr>\n",
       "  </tbody>\n",
       "</table>\n",
       "</div>"
      ],
      "text/plain": [
       "         Survived      Pclass         Age       SibSp       Parch        Fare  \\\n",
       "count  646.000000  646.000000  646.000000  646.000000  646.000000  646.000000   \n",
       "mean     0.339009    2.346749   29.329721    0.569659    0.411765   27.243651   \n",
       "std      0.473740    0.791748   13.590624    1.215128    0.852239   35.952905   \n",
       "min      0.000000    1.000000    0.000000    0.000000    0.000000    0.000000   \n",
       "25%      0.000000    2.000000   20.000000    0.000000    0.000000    8.050000   \n",
       "50%      0.000000    3.000000   28.000000    0.000000    0.000000   13.000000   \n",
       "75%      1.000000    3.000000   38.000000    1.000000    0.000000   27.900000   \n",
       "max      1.000000    3.000000   80.000000    8.000000    6.000000  263.000000   \n",
       "\n",
       "           Family  \n",
       "count  646.000000  \n",
       "mean     0.981424  \n",
       "std      1.773088  \n",
       "min      0.000000  \n",
       "25%      0.000000  \n",
       "50%      0.000000  \n",
       "75%      1.000000  \n",
       "max     10.000000  "
      ]
     },
     "execution_count": 33,
     "metadata": {},
     "output_type": "execute_result"
    }
   ],
   "source": [
    "Sdata = tdata.loc[tdata['Embarked'] == 'S'] #单独检查S港登船人\n",
    "Sdata.describe() "
   ]
  },
  {
   "cell_type": "markdown",
   "metadata": {
    "deletable": true,
    "editable": true
   },
   "source": [
    "对比C港登船乘客的相关统计量可以发现，C港登船乘客有超过50%是头等舱，同样的，他们所付的平均票价也远远高于平均值，相对的，S港登船乘客的舱位低于平均值，票价也低于平均值。\n",
    "\n",
    "结合Pclass和Fare的研究，可以猜测C港登船乘客的生存率高很可能是与他们的舱位和票价相关，而和港口无关。"
   ]
  },
  {
   "cell_type": "code",
   "execution_count": 34,
   "metadata": {
    "collapsed": false,
    "deletable": true,
    "editable": true
   },
   "outputs": [
    {
     "data": {
      "text/plain": [
       "<seaborn.axisgrid.FacetGrid at 0x111cd278>"
      ]
     },
     "execution_count": 34,
     "metadata": {},
     "output_type": "execute_result"
    },
    {
     "data": {
      "image/png": "[encoded data removed]",
      "text/plain": [
       "<matplotlib.figure.Figure at 0x10b59e48>"
      ]
     },
     "metadata": {},
     "output_type": "display_data"
    },
    {
     "data": {
      "image/png": "[encoded data removed]",
      "text/plain": [
       "<matplotlib.figure.Figure at 0xf4a3668>"
      ]
     },
     "metadata": {},
     "output_type": "display_data"
    }
   ],
   "source": [
    "embarkPcFare = tdata[['Embarked','Survived','Fare','Pclass']]\n",
    "embarkPcFare = embarkPcFare[embarkPcFare['Embarked'].isin(['C','S'])] #删除包含Q港的行\n",
    "\n",
    "# 看看同舱位的情况下，S与C港生存率是否相同\n",
    "fig, (axis1,axis2,axis3) = plt.subplots(1,3,figsize=(15,5))\n",
    "sns.barplot(x = 'Pclass' , y = 'Survived', hue = 'Embarked',data = embarkPcFare, ax = axis1)\n",
    "\n",
    "#查看不同港口舱位情况\n",
    "embarkpc = tdata[['Embarked','Survived','Pclass']]\n",
    "embarkpc = embarkpc[embarkpc['Embarked'].isin(['C','S'])] #删除包含Q港的行\n",
    "sns.countplot(x='Embarked', hue=\"Pclass\", data=embarkpc, ax=axis2)\n",
    "\n",
    "# 查看不同港口的男女情况\n",
    "embarksex = tdata[['Embarked','Survived','Sex']]\n",
    "embarksex = embarksex[embarksex['Embarked'].isin(['C','S'])] #删除包含Q港的行\n",
    "sns.countplot(x='Embarked', hue=\"Sex\", data=embarksex, ax=axis3)\n",
    "\n",
    "# 用lmplot展现S与C港乘客所付票价与生存率的关系（逻辑回归）\n",
    "sns.lmplot(x = 'Fare' , y = 'Survived', hue = 'Embarked',logistic = True, data = embarkPcFare,\\\n",
    "           size = 4, aspect = 3)"
   ]
  },
  {
   "cell_type": "markdown",
   "metadata": {
    "deletable": true,
    "editable": true
   },
   "source": [
    "在同舱位或同票价的情况下，S港与C港的生存率接近了很多。\n",
    "\n",
    "仍在存在的差异很可能是由以下两个因素导致的：C港女性乘客比例大大高于S港，S港三等舱乘客比例非常高。"
   ]
  },
  {
   "cell_type": "markdown",
   "metadata": {
    "deletable": true,
    "editable": true
   },
   "source": [
    "## 4.Conclusion and limitation 结论与局限性"
   ]
  },
  {
   "cell_type": "markdown",
   "metadata": {
    "collapsed": true,
    "deletable": true,
    "editable": true
   },
   "source": [
    "### Conclusion 结论\n",
    "由以上的分析与可视化，可以发现与生存率相关的最重要因素有四个：\n",
    "\n",
    "#### 人口特征因素：\n",
    "\n",
    "年龄Age：儿童（小于15岁）的生存率显著高于其他年龄层。\n",
    "\n",
    "性别Sex：女性的生存率远远高于男性。\n",
    "\n",
    "这两个因素都符合社会文化的习惯。对女性，儿童，老人的优先保护。\n",
    "\n",
    "#### 社会因素：\n",
    "\n",
    "家庭成员数量Family：有同伴一起登船的人生存率高于单身狗。同伴数量在1-3个的生存率较高，大于3个生存率骤减。\n",
    "\n",
    "可能解释：同伴的存在可以在精神上和实际行动上互相鼓励和帮助，提高生存率。但太多的同伴又会导致互相牵制，被猪队友拖后腿~~~。\n",
    "\n",
    "#### 经济相关因素\n",
    "\n",
    "舱位Pclass：舱位越好，生存率越高。\n",
    "经济相关因素最重要的是舱位。票价Fare的高低也主要体现在舱位上。\n",
    "\n",
    "#### 其他\n",
    "登船港口Embark：玄学因素。本身无影响，应当是由以上几个因素综合作用产生的结果。"
   ]
  },
  {
   "cell_type": "code",
   "execution_count": 35,
   "metadata": {
    "collapsed": false,
    "deletable": true,
    "editable": true
   },
   "outputs": [
    {
     "data": {
      "text/html": [
       "<div>\n",
       "<table border=\"1\" class=\"dataframe\">\n",
       "  <thead>\n",
       "    <tr style=\"text-align: right;\">\n",
       "      <th></th>\n",
       "      <th>Survived</th>\n",
       "      <th>Sex</th>\n",
       "      <th>Age</th>\n",
       "      <th>Fare</th>\n",
       "      <th>Family</th>\n",
       "      <th>Alone</th>\n",
       "      <th>Pclass_1</th>\n",
       "      <th>Pclass_2</th>\n",
       "      <th>Pclass_3</th>\n",
       "      <th>intercept</th>\n",
       "    </tr>\n",
       "  </thead>\n",
       "  <tbody>\n",
       "    <tr>\n",
       "      <th>0</th>\n",
       "      <td>0</td>\n",
       "      <td>1</td>\n",
       "      <td>22</td>\n",
       "      <td>7.2500</td>\n",
       "      <td>1</td>\n",
       "      <td>0</td>\n",
       "      <td>0</td>\n",
       "      <td>0</td>\n",
       "      <td>1</td>\n",
       "      <td>1.0</td>\n",
       "    </tr>\n",
       "    <tr>\n",
       "      <th>1</th>\n",
       "      <td>1</td>\n",
       "      <td>0</td>\n",
       "      <td>38</td>\n",
       "      <td>71.2833</td>\n",
       "      <td>1</td>\n",
       "      <td>0</td>\n",
       "      <td>1</td>\n",
       "      <td>0</td>\n",
       "      <td>0</td>\n",
       "      <td>1.0</td>\n",
       "    </tr>\n",
       "    <tr>\n",
       "      <th>2</th>\n",
       "      <td>1</td>\n",
       "      <td>0</td>\n",
       "      <td>26</td>\n",
       "      <td>7.9250</td>\n",
       "      <td>0</td>\n",
       "      <td>1</td>\n",
       "      <td>0</td>\n",
       "      <td>0</td>\n",
       "      <td>1</td>\n",
       "      <td>1.0</td>\n",
       "    </tr>\n",
       "    <tr>\n",
       "      <th>3</th>\n",
       "      <td>1</td>\n",
       "      <td>0</td>\n",
       "      <td>35</td>\n",
       "      <td>53.1000</td>\n",
       "      <td>1</td>\n",
       "      <td>0</td>\n",
       "      <td>1</td>\n",
       "      <td>0</td>\n",
       "      <td>0</td>\n",
       "      <td>1.0</td>\n",
       "    </tr>\n",
       "    <tr>\n",
       "      <th>4</th>\n",
       "      <td>0</td>\n",
       "      <td>1</td>\n",
       "      <td>35</td>\n",
       "      <td>8.0500</td>\n",
       "      <td>0</td>\n",
       "      <td>1</td>\n",
       "      <td>0</td>\n",
       "      <td>0</td>\n",
       "      <td>1</td>\n",
       "      <td>1.0</td>\n",
       "    </tr>\n",
       "  </tbody>\n",
       "</table>\n",
       "</div>"
      ],
      "text/plain": [
       "   Survived  Sex  Age     Fare  Family  Alone  Pclass_1  Pclass_2  Pclass_3  \\\n",
       "0         0    1   22   7.2500       1      0         0         0         1   \n",
       "1         1    0   38  71.2833       1      0         1         0         0   \n",
       "2         1    0   26   7.9250       0      1         0         0         1   \n",
       "3         1    0   35  53.1000       1      0         1         0         0   \n",
       "4         0    1   35   8.0500       0      1         0         0         1   \n",
       "\n",
       "   intercept  \n",
       "0        1.0  \n",
       "1        1.0  \n",
       "2        1.0  \n",
       "3        1.0  \n",
       "4        1.0  "
      ]
     },
     "execution_count": 35,
     "metadata": {},
     "output_type": "execute_result"
    }
   ],
   "source": [
    "# 清除已确认的间接和重复变量\n",
    "logit = tdata.drop(['Embarked','SibSp','Parch','Age_group'], axis = 1) #Embarked玄学，SibSp和Parch可以由Family体现\n",
    "\n",
    "# Alone变量类型转换为int\n",
    "logit['Alone'] = logit['Alone'] + 0\n",
    "\n",
    "# 将Pclass设为虚拟变量\n",
    "dummy_class = pd.get_dummies(logit['Pclass'], prefix = 'Pclass')\n",
    "# 加入Pclass的虚拟变量 \n",
    "logit = logit.join(dummy_class.ix[:, 'Pclass_1':])\n",
    "# 添加逻辑回归的intercept值\n",
    "logit['intercept'] = 1.0\n",
    "# 清除原Pclass列\n",
    "logit = logit.drop(['Pclass'], axis = 1)\n",
    "\n",
    "# 将Sex变量转换为0,1\n",
    "d = {'male': 1, 'female': 0}\n",
    "logit['Sex'] = logit['Sex'].map(d)\n",
    "logit.head()"
   ]
  },
  {
   "cell_type": "code",
   "execution_count": 36,
   "metadata": {
    "collapsed": false,
    "deletable": true,
    "editable": true
   },
   "outputs": [
    {
     "name": "stdout",
     "output_type": "stream",
     "text": [
      "Optimization terminated successfully.\n",
      "         Current function value: 0.440272\n",
      "         Iterations 6\n"
     ]
    },
    {
     "data": {
      "text/html": [
       "<table class=\"simpletable\">\n",
       "<caption>Logit Regression Results</caption>\n",
       "<tr>\n",
       "  <th>Dep. Variable:</th>     <td>Survived</td>     <th>  No. Observations:  </th>  <td>   891</td>  \n",
       "</tr>\n",
       "<tr>\n",
       "  <th>Model:</th>               <td>Logit</td>      <th>  Df Residuals:      </th>  <td>   883</td>  \n",
       "</tr>\n",
       "<tr>\n",
       "  <th>Method:</th>               <td>MLE</td>       <th>  Df Model:          </th>  <td>     7</td>  \n",
       "</tr>\n",
       "<tr>\n",
       "  <th>Date:</th>          <td>Sat, 01 Apr 2017</td> <th>  Pseudo R-squ.:     </th>  <td>0.3388</td>  \n",
       "</tr>\n",
       "<tr>\n",
       "  <th>Time:</th>              <td>17:47:46</td>     <th>  Log-Likelihood:    </th> <td> -392.28</td> \n",
       "</tr>\n",
       "<tr>\n",
       "  <th>converged:</th>           <td>True</td>       <th>  LL-Null:           </th> <td> -593.33</td> \n",
       "</tr>\n",
       "<tr>\n",
       "  <th> </th>                      <td> </td>        <th>  LLR p-value:       </th> <td>8.499e-83</td>\n",
       "</tr>\n",
       "</table>\n",
       "<table class=\"simpletable\">\n",
       "<tr>\n",
       "      <td></td>         <th>coef</th>     <th>std err</th>      <th>z</th>      <th>P>|z|</th>  <th>[0.025</th>    <th>0.975]</th>  \n",
       "</tr>\n",
       "<tr>\n",
       "  <th>Sex</th>       <td>   -2.7003</td> <td>    0.199</td> <td>  -13.570</td> <td> 0.000</td> <td>   -3.090</td> <td>   -2.310</td>\n",
       "</tr>\n",
       "<tr>\n",
       "  <th>Age</th>       <td>   -0.0342</td> <td>    0.007</td> <td>   -4.649</td> <td> 0.000</td> <td>   -0.049</td> <td>   -0.020</td>\n",
       "</tr>\n",
       "<tr>\n",
       "  <th>Fare</th>      <td>    0.0028</td> <td>    0.002</td> <td>    1.173</td> <td> 0.241</td> <td>   -0.002</td> <td>    0.008</td>\n",
       "</tr>\n",
       "<tr>\n",
       "  <th>Family</th>    <td>   -0.4146</td> <td>    0.100</td> <td>   -4.152</td> <td> 0.000</td> <td>   -0.610</td> <td>   -0.219</td>\n",
       "</tr>\n",
       "<tr>\n",
       "  <th>Alone</th>     <td>   -0.7747</td> <td>    0.273</td> <td>   -2.834</td> <td> 0.005</td> <td>   -1.310</td> <td>   -0.239</td>\n",
       "</tr>\n",
       "<tr>\n",
       "  <th>Pclass_1</th>  <td>    1.7567</td> <td> 7.03e+06</td> <td>  2.5e-07</td> <td> 1.000</td> <td>-1.38e+07</td> <td> 1.38e+07</td>\n",
       "</tr>\n",
       "<tr>\n",
       "  <th>Pclass_2</th>  <td>    0.8248</td> <td> 7.03e+06</td> <td> 1.17e-07</td> <td> 1.000</td> <td>-1.38e+07</td> <td> 1.38e+07</td>\n",
       "</tr>\n",
       "<tr>\n",
       "  <th>Pclass_3</th>  <td>   -0.2079</td> <td> 7.03e+06</td> <td>-2.96e-08</td> <td> 1.000</td> <td>-1.38e+07</td> <td> 1.38e+07</td>\n",
       "</tr>\n",
       "<tr>\n",
       "  <th>intercept</th> <td>    2.3735</td> <td> 7.03e+06</td> <td> 3.38e-07</td> <td> 1.000</td> <td>-1.38e+07</td> <td> 1.38e+07</td>\n",
       "</tr>\n",
       "</table>"
      ],
      "text/plain": [
       "<class 'statsmodels.iolib.summary.Summary'>\n",
       "\"\"\"\n",
       "                           Logit Regression Results                           \n",
       "==============================================================================\n",
       "Dep. Variable:               Survived   No. Observations:                  891\n",
       "Model:                          Logit   Df Residuals:                      883\n",
       "Method:                           MLE   Df Model:                            7\n",
       "Date:                Sat, 01 Apr 2017   Pseudo R-squ.:                  0.3388\n",
       "Time:                        17:47:46   Log-Likelihood:                -392.28\n",
       "converged:                       True   LL-Null:                       -593.33\n",
       "                                        LLR p-value:                 8.499e-83\n",
       "==============================================================================\n",
       "                 coef    std err          z      P>|z|      [0.025      0.975]\n",
       "------------------------------------------------------------------------------\n",
       "Sex           -2.7003      0.199    -13.570      0.000      -3.090      -2.310\n",
       "Age           -0.0342      0.007     -4.649      0.000      -0.049      -0.020\n",
       "Fare           0.0028      0.002      1.173      0.241      -0.002       0.008\n",
       "Family        -0.4146      0.100     -4.152      0.000      -0.610      -0.219\n",
       "Alone         -0.7747      0.273     -2.834      0.005      -1.310      -0.239\n",
       "Pclass_1       1.7567   7.03e+06    2.5e-07      1.000   -1.38e+07    1.38e+07\n",
       "Pclass_2       0.8248   7.03e+06   1.17e-07      1.000   -1.38e+07    1.38e+07\n",
       "Pclass_3      -0.2079   7.03e+06  -2.96e-08      1.000   -1.38e+07    1.38e+07\n",
       "intercept      2.3735   7.03e+06   3.38e-07      1.000   -1.38e+07    1.38e+07\n",
       "==============================================================================\n",
       "\"\"\""
      ]
     },
     "execution_count": 36,
     "metadata": {},
     "output_type": "execute_result"
    }
   ],
   "source": [
    "# 第一列之后作自变量，第一列是应变量\n",
    "reg_cols = logit.columns[1:]\n",
    "logit = sm.Logit(logit['Survived'], logit[reg_cols])\n",
    " \n",
    "# 拟合模型\n",
    "result = logit.fit()\n",
    "result.summary()"
   ]
  },
  {
   "cell_type": "markdown",
   "metadata": {
    "deletable": true,
    "editable": true
   },
   "source": [
    "逻辑回归的结果与结论相符，性别，舱位，是否有同伴三个因素与生存率强相关。（Age变量没有分年龄层，所以相关不明显，以后可以进一步处理。）"
   ]
  },
  {
   "cell_type": "markdown",
   "metadata": {
    "deletable": true,
    "editable": true
   },
   "source": [
    "### Limitaion 局限性\n",
    "#### 1.没有考虑Name，Ticket，Cabin三个变量。\n",
    "\n",
    "Name变量可能会与家庭成员（SibSp，Parch）相关（兄弟，夫妻，父子等），也可能与社会经济地位相关（比如名字中含Master）。\n",
    "\n",
    "Ticket变量可能与票价（Fare）相关，因为同一票号存在多张票，这种团购方式购买票价与单独购买的票价可能会不同。\n",
    "\n",
    "Cabin变量影响的应该不大，舱号与舱位，票价相关，但对于生存率没有直接影响。\n",
    "\n",
    "#### 2. 假设检验\n",
    "各变量与生存与否的关系主要通过统计量和可视化发现，没有经过系统的假设检验过程。\n",
    "\n",
    "#### 3.数据完整度\n",
    "报告中使用的数据只占了全部乘客数据的45%左右，虽然有891个样本，但这些样本中也存在各种缺失。因此利用这个样本所分析的结论可能有所偏差。\n",
    "\n",
    "#### 4.统计方法\n",
    "使用的数据处理方法可能带来偏差和不确定性...（嗯.。O.0？）"
   ]
  }
 ],
 "metadata": {
  "kernelspec": {
   "display_name": "Python 2",
   "language": "python",
   "name": "python2"
  },
  "language_info": {
   "codemirror_mode": {
    "name": "ipython",
    "version": 2
   },
   "file_extension": ".py",
   "mimetype": "text/x-python",
   "name": "python",
   "nbconvert_exporter": "python",
   "pygments_lexer": "ipython2",
   "version": "2.7.13"
  }
 },
 "nbformat": 4,
 "nbformat_minor": 2
}
